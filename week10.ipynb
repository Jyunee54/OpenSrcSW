{
 "cells": [
  {
   "cell_type": "code",
   "execution_count": 3,
   "id": "ad0037e0",
   "metadata": {},
   "outputs": [
    {
     "name": "stdout",
     "output_type": "stream",
     "text": [
      "죽는 날까지 하늘을 우러러\n",
      "한 점 부끄럼이 없기를,\n",
      "잎새에 이는 바람에도\n",
      "너는 괴로워했다.\n",
      "모든 죽어가는 것을 사랑해야지\n",
      "그리고 너한테 주어진 길을\n",
      "걸어가야겠다.\n",
      "오늘 밤에도 별이 바람에 스치운다.\n"
     ]
    }
   ],
   "source": [
    "#실습1\n",
    "\n",
    "str = \"\"\"  죽는 날까지 하늘을 우러러\n",
    "한 점 부끄럼이 없기를,\n",
    "잎새에 이는 바람에도\n",
    "나는 괴로워했다.\n",
    "모든 죽어가는 것을 사랑해야지\n",
    "그리고 나한테 주어진 길을\n",
    "걸어가야겠다.\n",
    "오늘 밤에도 별이 바람에 스치운다.  \"\"\"\n",
    "\n",
    "result = str.strip()\n",
    "result = result.replace(\"나\", \"너\")\n",
    "print(result)"
   ]
  },
  {
   "cell_type": "code",
   "execution_count": 5,
   "id": "60538f98",
   "metadata": {},
   "outputs": [
    {
     "name": "stdout",
     "output_type": "stream",
     "text": [
      "Numbers?10 456 87 78\n",
      "Max =  456\n"
     ]
    }
   ],
   "source": [
    "#실습2\n",
    "\n",
    "str = input(\"Numbers?\")\n",
    "strlist = str.split()\n",
    "\n",
    "max = int(strlist[0])\n",
    "\n",
    "for str1 in strlist[1:]:\n",
    "    num = int(str1)\n",
    "    if(num>max):\n",
    "        max = num\n",
    "        \n",
    "print(\"Max = \",max)"
   ]
  },
  {
   "cell_type": "code",
   "execution_count": 7,
   "id": "40c00cd3",
   "metadata": {},
   "outputs": [
    {
     "name": "stdout",
     "output_type": "stream",
     "text": [
      "\"abc def\" is encoded into \"efg!bcd\"\n",
      "\"efg!bcd\" is decoded into \"abc def\"\n"
     ]
    }
   ],
   "source": [
    "#실습3\n",
    "\n",
    "def conv_asc(str, num):\n",
    "    new_str = \"\"\n",
    "    for i in str:\n",
    "        code = ord(i)\n",
    "        new_str += chr(code+num)\n",
    "    return new_str\n",
    "\n",
    "def enc(str, key):\n",
    "    list = str.split()\n",
    "    list = list[::-1]\n",
    "    new_str = \" \".join(list)\n",
    "    return conv_asc(new_str, key)\n",
    "\n",
    "def dec(str , key):\n",
    "    str = conv_asc(str, key*-1)\n",
    "    list = str.split()\n",
    "    list = list[::-1]\n",
    "    new_str = \" \".join(list)\n",
    "    return new_str\n",
    "\n",
    "str = \"abc def\"\n",
    "enc_str = enc(str, 1)\n",
    "print(\"\\\"\"+str+\"\\\" is encoded into \\\"\"+enc_str+\"\\\"\")\n",
    "\n",
    "dec_str = dec(enc_str, 1)\n",
    "print(\"\\\"\"+enc_str+\"\\\" is decoded into \\\"\"+dec_str+\"\\\"\")"
   ]
  },
  {
   "cell_type": "code",
   "execution_count": null,
   "id": "2b69629a",
   "metadata": {},
   "outputs": [],
   "source": []
  }
 ],
 "metadata": {
  "kernelspec": {
   "display_name": "Python 3 (ipykernel)",
   "language": "python",
   "name": "python3"
  },
  "language_info": {
   "codemirror_mode": {
    "name": "ipython",
    "version": 3
   },
   "file_extension": ".py",
   "mimetype": "text/x-python",
   "name": "python",
   "nbconvert_exporter": "python",
   "pygments_lexer": "ipython3",
   "version": "3.9.6"
  }
 },
 "nbformat": 4,
 "nbformat_minor": 5
}
