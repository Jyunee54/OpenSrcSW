{
 "cells": [
  {
   "cell_type": "code",
   "execution_count": 6,
   "id": "c8d7734d",
   "metadata": {},
   "outputs": [
    {
     "name": "stdout",
     "output_type": "stream",
     "text": [
      "백신이 가장 많이 접종된 날: 2021-06-28\n",
      "백신이 가장 적게 접종된 날: 2021-02-22\n"
     ]
    }
   ],
   "source": [
    "import csv\n",
    "\n",
    "f = open('file/country_vaccinations.csv', encoding='cp949')\n",
    "data = csv.reader(f)\n",
    "header = next(data)\n",
    "max = -999\n",
    "min = 999\n",
    "max_date = \"\"\n",
    "min_date = \"\"\n",
    "\n",
    "for row in data:\n",
    "    if row[7] == '':\n",
    "        row[7] = -999\n",
    "        \n",
    "    row[7] = float(row[7])\n",
    "    \n",
    "    if max < row[7]:\n",
    "        max = row[7]\n",
    "        max_date = row[2]\n",
    "    if min > row[7]:\n",
    "        min = row[7]\n",
    "        min_date = row[2]\n",
    "        \n",
    "print('백신이 가장 많이 접종된 날:', max_date)\n",
    "print('백신이 가장 적게 접종된 날:', min_date)"
   ]
  },
  {
   "cell_type": "code",
   "execution_count": 21,
   "id": "6b3f96bd",
   "metadata": {},
   "outputs": [
    {
     "ename": "NameError",
     "evalue": "name 'length' is not defined",
     "output_type": "error",
     "traceback": [
      "\u001b[1;31m---------------------------------------------------------------------------\u001b[0m",
      "\u001b[1;31mNameError\u001b[0m                                 Traceback (most recent call last)",
      "Input \u001b[1;32mIn [21]\u001b[0m, in \u001b[0;36m<cell line: 26>\u001b[1;34m()\u001b[0m\n\u001b[0;32m     23\u001b[0m count \u001b[38;5;241m=\u001b[39m \u001b[38;5;28mlist\u001b[39m(dic\u001b[38;5;241m.\u001b[39mvalues())\n\u001b[0;32m     25\u001b[0m count \u001b[38;5;241m=\u001b[39m count\u001b[38;5;241m.\u001b[39msort()\n\u001b[1;32m---> 26\u001b[0m \u001b[38;5;28;01mfor\u001b[39;00m i \u001b[38;5;129;01min\u001b[39;00m \u001b[43mlength\u001b[49m(count):\n\u001b[0;32m     27\u001b[0m     key \u001b[38;5;241m=\u001b[39m \u001b[38;5;28mlist\u001b[39m(dic\u001b[38;5;241m.\u001b[39mkeys())\n\u001b[0;32m     28\u001b[0m     value \u001b[38;5;241m=\u001b[39m \u001b[38;5;28mlist\u001b[39m(dic\u001b[38;5;241m.\u001b[39mvalues())\n",
      "\u001b[1;31mNameError\u001b[0m: name 'length' is not defined"
     ]
    }
   ],
   "source": [
    "import csv\n",
    "import pandas as pd\n",
    "import numpy as np\n",
    "\n",
    "f = open('file/country_vaccinations.csv', encoding='cp949')\n",
    "data = csv.reader(f)\n",
    "header = next(data)\n",
    "\n",
    "dic = {}\n",
    "\n",
    "for row in data:\n",
    "    row[12] = row[12].strip()\n",
    "    vac = row[12].split(',')\n",
    "    \n",
    "    for i in vac:\n",
    "        if i in dic.keys():\n",
    "            dic[i] += 1\n",
    "        else:\n",
    "            dic[i] = 1\n",
    "\n",
    "        \n",
    "vaccines = list(dic.keys())\n",
    "count = list(dic.values())\n",
    "\n",
    "count = count.sort()\n",
    "for i in length(count):\n",
    "    key = list(dic.keys())\n",
    "    value = list(dic.values())\n",
    "    for j in length(key):\n",
    "        if count[i]==value[j]:\n",
    "            vaccines[i]=key[j]\n",
    "\n",
    "vac_frame = pd.DataFrame(count, index = vaccines, columns = ['접종 국가수'])\n",
    "vac_frame['접종 국가수']"
   ]
  },
  {
   "cell_type": "code",
   "execution_count": null,
   "id": "f69fe3f9",
   "metadata": {},
   "outputs": [],
   "source": []
  }
 ],
 "metadata": {
  "kernelspec": {
   "display_name": "Python 3 (ipykernel)",
   "language": "python",
   "name": "python3"
  },
  "language_info": {
   "codemirror_mode": {
    "name": "ipython",
    "version": 3
   },
   "file_extension": ".py",
   "mimetype": "text/x-python",
   "name": "python",
   "nbconvert_exporter": "python",
   "pygments_lexer": "ipython3",
   "version": "3.9.6"
  }
 },
 "nbformat": 4,
 "nbformat_minor": 5
}
