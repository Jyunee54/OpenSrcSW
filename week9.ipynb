{
 "cells": [
  {
   "cell_type": "markdown",
   "id": "ba87a25a",
   "metadata": {},
   "source": [
    "실습1"
   ]
  },
  {
   "cell_type": "code",
   "execution_count": 1,
   "id": "c65f5ab7",
   "metadata": {},
   "outputs": [
    {
     "name": "stdout",
     "output_type": "stream",
     "text": [
      "실습1\n",
      "\n",
      "7 시간  36 분\n"
     ]
    }
   ],
   "source": [
    "#실습1\n",
    "\n",
    "print(\"실습1\\n\")\n",
    "a=456\n",
    "h=456/60\n",
    "m=456%60\n",
    "\n",
    "print(int(h),\"시간 \", m,\"분\")"
   ]
  },
  {
   "cell_type": "markdown",
   "id": "edde0134",
   "metadata": {},
   "source": [
    "실습2"
   ]
  },
  {
   "cell_type": "code",
   "execution_count": 2,
   "id": "fb89e4b7",
   "metadata": {},
   "outputs": [
    {
     "name": "stdout",
     "output_type": "stream",
     "text": [
      "실습2\n",
      "\n",
      "['김철수', '이영희', '임꺽정', '홍길동']\n",
      "김철수 2.8\n"
     ]
    }
   ],
   "source": [
    "#실습2\n",
    "\n",
    "print(\"실습2\\n\")\n",
    "      \n",
    "scores={\"홍길동\":3.4, \"임꺽정\":4.0, \"김철수\":2.8, \"이영희\":3.9}\n",
    "\n",
    "data=scores.keys()\n",
    "data_list=list(data)\n",
    "data_list.sort()\n",
    "print(data_list)\n",
    "\n",
    "key=data_list[0]\n",
    "value=scores[key]\n",
    "print(key, value)\n"
   ]
  },
  {
   "cell_type": "code",
   "execution_count": null,
   "id": "95d8c887",
   "metadata": {},
   "outputs": [],
   "source": []
  }
 ],
 "metadata": {
  "kernelspec": {
   "display_name": "Python 3 (ipykernel)",
   "language": "python",
   "name": "python3"
  },
  "language_info": {
   "codemirror_mode": {
    "name": "ipython",
    "version": 3
   },
   "file_extension": ".py",
   "mimetype": "text/x-python",
   "name": "python",
   "nbconvert_exporter": "python",
   "pygments_lexer": "ipython3",
   "version": "3.9.6"
  }
 },
 "nbformat": 4,
 "nbformat_minor": 5
}
